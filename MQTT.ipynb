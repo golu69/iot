{
  "nbformat": 4,
  "nbformat_minor": 0,
  "metadata": {
    "colab": {
      "provenance": []
    },
    "kernelspec": {
      "name": "python3",
      "display_name": "Python 3"
    },
    "language_info": {
      "name": "python"
    }
  },
  "cells": [
    {
      "cell_type": "code",
      "execution_count": null,
      "metadata": {
        "id": "GjO4fri7gfdJ"
      },
      "outputs": [],
      "source": [
        "!pip install paho-mqtt"
      ]
    },
    {
      "cell_type": "code",
      "source": [
        "import paho.mqtt.client as mqtt\n",
        "\n",
        "def on_connect(client, userdata, flags, rc):\n",
        "    print(\"Connected with result code \" + str(rc))\n",
        "\n",
        "def on_message(client, userdata, message):\n",
        "    print(\"Received message '\" + str(message.payload) + \"' on topic '\"\n",
        "          + message.topic + \"' with QoS \" + str(message.qos))\n",
        "    print(\"Message received successfully!\")\n",
        "\n",
        "\n",
        "def on_disconnect(client, userdata, rc):\n",
        "    if rc != 0:\n",
        "        print(\"Unexpected disconnection.\")\n",
        "\n",
        "broker_address = \"test.mosquitto.org\"\n",
        "client_id = \"my-client-id\"\n",
        "\n",
        "client = mqtt.Client(client_id)\n",
        "\n",
        "client.on_connect = on_connect\n",
        "client.on_message = on_message\n",
        "client.on_disconnect = on_disconnect\n",
        "\n",
        "client.connect(broker_address)\n",
        "\n",
        "topic = \"test/topic\"\n",
        "qos = 0\n",
        "client.subscribe(topic, qos)\n",
        "\n",
        "print(\"Subscribed to topic '{}' with QoS {}\".format(topic, qos))"
      ],
      "metadata": {
        "colab": {
          "base_uri": "https://localhost:8080/"
        },
        "id": "DwlwUdXfgguw",
        "outputId": "71504f06-22d0-4da9-9595-ef5be86dce8b"
      },
      "execution_count": 10,
      "outputs": [
        {
          "output_type": "stream",
          "name": "stdout",
          "text": [
            "Subscribed to topic 'test/topic' with QoS 0\n"
          ]
        }
      ]
    }
  ]
}