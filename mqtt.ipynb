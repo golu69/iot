{
  "nbformat": 4,
  "nbformat_minor": 0,
  "metadata": {
    "colab": {
      "provenance": []
    },
    "kernelspec": {
      "name": "python3",
      "display_name": "Python 3"
    },
    "language_info": {
      "name": "python"
    }
  },
  "cells": [
    {
      "cell_type": "code",
      "source": [
        "!apt-get install mosquitto mosquitto-clients"
      ],
      "metadata": {
        "id": "K_AoA12cKSlR"
      },
      "execution_count": null,
      "outputs": []
    },
    {
      "cell_type": "code",
      "execution_count": null,
      "metadata": {
        "id": "GjO4fri7gfdJ"
      },
      "outputs": [],
      "source": [
        "!pip install paho-mqtt"
      ]
    },
    {
      "cell_type": "code",
      "source": [
        "!mosquitto -d"
      ],
      "metadata": {
        "id": "sIDPXrNIJz-d"
      },
      "execution_count": 3,
      "outputs": []
    },
    {
      "cell_type": "code",
      "source": [
        "# import paho.mqtt.client as mqtt\n",
        "\n",
        "# def on_connect(client, userdata, flags, rc):\n",
        "#     print(\"Connected with result code \" + str(rc))\n",
        "\n",
        "# def on_message(client, userdata, message):\n",
        "#     print(\"Received message '\" + str(message.payload) + \"' on topic '\"\n",
        "#           + message.topic + \"' with QoS \" + str(message.qos))\n",
        "#     print(\"Message received successfully!\")\n",
        "\n",
        "\n",
        "# def on_disconnect(client, userdata, rc):\n",
        "#     if rc != 0:\n",
        "#         print(\"Unexpected disconnection.\")\n",
        "\n",
        "# broker_address = \"test.mosquitto.org\"\n",
        "# client_id = \"my-client-id\"\n",
        "\n",
        "# client = mqtt.Client(client_id)\n",
        "\n",
        "# client.on_connect = on_connect\n",
        "# client.on_message = on_message\n",
        "# client.on_disconnect = on_disconnect\n",
        "\n",
        "# client.connect(broker_address)\n",
        "\n",
        "# topic = \"test/topic\"\n",
        "# qos = 0\n",
        "# client.subscribe(topic, qos)\n",
        "\n",
        "# print(\"Subscribed to topic '{}' with QoS {}\".format(topic, qos))"
      ],
      "metadata": {
        "id": "DwlwUdXfgguw"
      },
      "execution_count": null,
      "outputs": []
    },
    {
      "cell_type": "code",
      "source": [
        "import paho.mqtt.client as mqtt\n",
        "\n",
        "# MQTT broker configuration\n",
        "broker_address = \"localhost\"  # Replace with the IP address if the broker is running on a different machine\n",
        "broker_port = 1883  # Default MQTT port\n",
        "\n",
        "# Callback functions for MQTT events\n",
        "def on_connect(client, userdata, flags, rc):\n",
        "    print(\"Connected with result code \" + str(rc))\n",
        "    # Subscribe to a topic\n",
        "    client.subscribe(\"test/topic\")\n",
        "\n",
        "def on_message(client, userdata, msg):\n",
        "    print(\"Message received: \" + msg.payload.decode())\n",
        "\n",
        "# Create a MQTT client\n",
        "client = mqtt.Client()\n",
        "\n",
        "# Assign callback functions\n",
        "client.on_connect = on_connect\n",
        "client.on_message = on_message\n",
        "\n",
        "# Connect to the broker\n",
        "client.connect(broker_address, broker_port, 60)\n",
        "\n",
        "# Start the MQTT network loop\n",
        "client.loop_start()\n",
        "\n",
        "# Publish a test message\n",
        "client.publish(\"test/topic\", \"Hello, MQTT!\")\n",
        "\n",
        "# Disconnect from the broker\n",
        "client.disconnect()"
      ],
      "metadata": {
        "colab": {
          "base_uri": "https://localhost:8080/"
        },
        "id": "RIPiRDvXKD17",
        "outputId": "1effedb5-25ae-4174-fb0f-b38f2345cfe9"
      },
      "execution_count": 8,
      "outputs": [
        {
          "output_type": "execute_result",
          "data": {
            "text/plain": [
              "0"
            ]
          },
          "metadata": {},
          "execution_count": 8
        },
        {
          "output_type": "stream",
          "name": "stdout",
          "text": [
            "Connected with result code 0\n",
            "Message received: Hello, MQTT!\n",
            "Message received: Hello, MQTT!\n",
            "Message received: Hello, MQTT!\n",
            "Message received: Hello, MQTT!\n"
          ]
        }
      ]
    },
    {
      "cell_type": "code",
      "source": [
        "# import paho.mqtt.client as mqtt\n",
        "\n",
        "# # MQTT broker connection parameters\n",
        "# broker_address = \"test.mosquitto.org\"\n",
        "# broker_port = 1883\n",
        "# client_id = \"my-client\"\n",
        "\n",
        "# # Callback function for connection status\n",
        "# def on_connect(client, userdata, flags, rc):\n",
        "#     if rc == 0:\n",
        "#         print(\"Connected to MQTT broker\")\n",
        "#         # Subscribe to a topic\n",
        "#         client.subscribe(\"my/topic\")\n",
        "#     else:\n",
        "#         print(\"Failed to connect to MQTT broker\")\n",
        "\n",
        "# # Callback function for received messages\n",
        "# def on_message(client, userdata, msg):\n",
        "#     print(\"Received message: \" + msg.topic + \" \" + str(msg.payload.decode()))\n",
        "\n",
        "# # Create an MQTT client\n",
        "# client = mqtt.Client(client_id)\n",
        "\n",
        "# # Set up callback functions\n",
        "# client.on_connect = on_connect\n",
        "# client.on_message = on_message\n",
        "\n",
        "# # Connect to the MQTT broker\n",
        "# client.connect(broker_address, broker_port, 60)\n",
        "\n",
        "# # Start the MQTT client loop\n",
        "# client.loop_start()\n",
        "\n",
        "# # Publish a message\n",
        "# client.publish(\"my/topic\", \"Hello, MQTT!\")\n",
        "\n",
        "# # Keep the program running\n",
        "# while True:\n",
        "#     pass\n"
      ],
      "metadata": {
        "colab": {
          "base_uri": "https://localhost:8080/",
          "height": 600
        },
        "id": "n8ntJC1jJGS7",
        "outputId": "63b2db1b-db3a-4817-b1ad-18f1713644fa"
      },
      "execution_count": 9,
      "outputs": [
        {
          "output_type": "stream",
          "name": "stdout",
          "text": [
            "Connected to MQTT broker\n",
            "Received message: my/topic b'{'\n",
            "Connected to MQTT broker\n",
            "Connected to MQTT broker\n",
            "Connected to MQTT broker\n",
            "Connected to MQTT broker\n",
            "Connected to MQTT broker\n",
            "Received message: my/topic b'{'\n",
            "Connected to MQTT broker\n",
            "Received message: my/topic b'{'\n",
            "Connected to MQTT broker\n",
            "Received message: my/topic b'{'\n",
            "Connected to MQTT broker\n",
            "Connected to MQTT broker\n",
            "Connected to MQTT broker\n",
            "Connected to MQTT broker\n",
            "Connected to MQTT broker\n",
            "Received message: my/topic {\n",
            "Connected to MQTT broker\n",
            "Received message: my/topic b'{'\n"
          ]
        },
        {
          "output_type": "error",
          "ename": "KeyboardInterrupt",
          "evalue": "ignored",
          "traceback": [
            "\u001b[0;31m---------------------------------------------------------------------------\u001b[0m",
            "\u001b[0;31mKeyboardInterrupt\u001b[0m                         Traceback (most recent call last)",
            "\u001b[0;32m<ipython-input-9-4760dde0b5c4>\u001b[0m in \u001b[0;36m<cell line: 38>\u001b[0;34m()\u001b[0m\n\u001b[1;32m     36\u001b[0m \u001b[0;34m\u001b[0m\u001b[0m\n\u001b[1;32m     37\u001b[0m \u001b[0;31m# Keep the program running\u001b[0m\u001b[0;34m\u001b[0m\u001b[0;34m\u001b[0m\u001b[0m\n\u001b[0;32m---> 38\u001b[0;31m \u001b[0;32mwhile\u001b[0m \u001b[0;32mTrue\u001b[0m\u001b[0;34m:\u001b[0m\u001b[0;34m\u001b[0m\u001b[0;34m\u001b[0m\u001b[0m\n\u001b[0m\u001b[1;32m     39\u001b[0m     \u001b[0;32mpass\u001b[0m\u001b[0;34m\u001b[0m\u001b[0;34m\u001b[0m\u001b[0m\n",
            "\u001b[0;31mKeyboardInterrupt\u001b[0m: "
          ]
        },
        {
          "output_type": "stream",
          "name": "stdout",
          "text": [
            "Connected to MQTT broker\n",
            "Received message: my/topic b'{'\n"
          ]
        }
      ]
    }
  ]
}